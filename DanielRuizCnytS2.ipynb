{
 "cells": [
  {
   "cell_type": "markdown",
   "metadata": {},
   "source": [
    "# Ejercicios sobre vectores y matrices complejos semana 2\n",
    "## Daniel Felipe Ruiz Bermúdez"
   ]
  },
  {
   "cell_type": "markdown",
   "metadata": {},
   "source": [
    "### Ejercicio 1. suma de dos vectores complejos\n",
    "Dado dos vectores complejos\n",
    "$ v1 = \\begin{bmatrix} 1 + 2i \\\\ 3 - i \\end{bmatrix} $ \n",
    "y \n",
    "$ v2 = \\begin{bmatrix} 2 - i \\\\ 4 + 2i \\end{bmatrix} $, \n",
    "find their sum."
   ]
  },
  {
   "cell_type": "code",
   "execution_count": 2,
   "metadata": {},
   "outputs": [
    {
     "data": {
      "text/plain": [
       "array([[3.+1.j],\n",
       "       [7.+1.j]])"
      ]
     },
     "execution_count": 2,
     "metadata": {},
     "output_type": "execute_result"
    }
   ],
   "source": [
    "import numpy as np\n",
    "\n",
    "v1 = np.array([[1 + 2j], [3 - 1j]])\n",
    "v2 = np.array([[2 - 1j], [4 + 2j]])\n",
    "suma = v1 + v2\n",
    "suma"
   ]
  },
  {
   "cell_type": "markdown",
   "metadata": {},
   "source": [
    "### Ejercicio 2: Negación de un vector complejo\n",
    "Dado un vector complejo \n",
    "$ v = \\begin{bmatrix} 2 + 3i \\\\ 1 - 2i \\end{bmatrix} $, \n",
    "encontrar su negación."
   ]
  },
  {
   "cell_type": "code",
   "execution_count": 4,
   "metadata": {},
   "outputs": [
    {
     "data": {
      "text/plain": [
       "array([[-2.-3.j],\n",
       "       [-1.+2.j]])"
      ]
     },
     "execution_count": 4,
     "metadata": {},
     "output_type": "execute_result"
    }
   ],
   "source": [
    "vn = np.array([[2 + 3j], [1 - 2j]])\n",
    "negac = -vn\n",
    "negac"
   ]
  },
  {
   "cell_type": "markdown",
   "metadata": {},
   "source": [
    "### Ejercicio 3: Multiplicación de un vector complejo por un escalar\n",
    "Multiplicar el vector complejo \n",
    "$ v = \\begin{bmatrix} 1 - i \\\\ 2 + 2i \\end{bmatrix} $ \n",
    "por el complejo escalar $$ 3 + i $$."
   ]
  },
  {
   "cell_type": "code",
   "execution_count": 8,
   "metadata": {},
   "outputs": [
    {
     "data": {
      "text/plain": [
       "array([[4.-2.j],\n",
       "       [4.+8.j]])"
      ]
     },
     "execution_count": 8,
     "metadata": {},
     "output_type": "execute_result"
    }
   ],
   "source": [
    "vc = np.array([[1 - 1j], [2 + 2j]])\n",
    "sc = 3 + 1j\n",
    "multEscVc = vc * sc\n",
    "multEscVc"
   ]
  },
  {
   "cell_type": "markdown",
   "metadata": {},
   "source": [
    "### Ejercicio 4: Transpuesta de un vector complejo\n",
    "Encontrar la transpuesta del vector complejo \n",
    "$ v = \\begin{bmatrix} 2 - i \\\\ 3 + 4i \\end{bmatrix} $."
   ]
  },
  {
   "cell_type": "code",
   "execution_count": 11,
   "metadata": {},
   "outputs": [
    {
     "data": {
      "text/plain": [
       "(array([[2.-1.j],\n",
       "        [3.+4.j]]),\n",
       " array([[2.-1.j, 3.+4.j]]))"
      ]
     },
     "execution_count": 11,
     "metadata": {},
     "output_type": "execute_result"
    }
   ],
   "source": [
    "v = np.array([[2 - 1j], [3 + 4j]])\n",
    "transpV = v.T\n",
    "(v, transpV)"
   ]
  },
  {
   "cell_type": "markdown",
   "metadata": {},
   "source": [
    "### Ejercicio 5: Conjugado de un vector complejo\n",
    "Computar el conjugado del vector complejo \n",
    "$ v = \\begin{bmatrix} 1 + i \\\\ 2 - 3i \\end{bmatrix} $."
   ]
  },
  {
   "cell_type": "code",
   "execution_count": 12,
   "metadata": {},
   "outputs": [
    {
     "data": {
      "text/plain": [
       "array([[1.-1.j],\n",
       "       [2.+3.j]])"
      ]
     },
     "execution_count": 12,
     "metadata": {},
     "output_type": "execute_result"
    }
   ],
   "source": [
    "vect = np.array([[1 + 1j],[2 - 3j]])\n",
    "vectConjug = np.conjugate(vect)\n",
    "vectConjug"
   ]
  },
  {
   "cell_type": "markdown",
   "metadata": {},
   "source": [
    "### Ejercicio 6: Adjunta (Conjugada Transpuesta) de un vector complejo\n",
    "Encontrar la adjunta (o transpuesta conjugada) del vector complejo \n",
    "$ v = \\begin{bmatrix} 1 - 2i \\\\ 3 + i \\end{bmatrix} $."
   ]
  },
  {
   "cell_type": "code",
   "execution_count": 13,
   "metadata": {},
   "outputs": [
    {
     "data": {
      "text/plain": [
       "array([[1.+2.j, 3.-1.j]])"
      ]
     },
     "execution_count": 13,
     "metadata": {},
     "output_type": "execute_result"
    }
   ],
   "source": [
    "vector = np.array([[1 - 2j], [3 + 1j]])\n",
    "conjugVector = np.conjugate(vector)\n",
    "transpConjug = conjugVector.T\n",
    "transpConjug"
   ]
  },
  {
   "cell_type": "markdown",
   "metadata": {},
   "source": [
    "## Operaciones de matrices cuadradas complejas"
   ]
  },
  {
   "cell_type": "markdown",
   "metadata": {},
   "source": [
    "### Ejercicio 7: Suma de dos matrices complejas\n",
    "Dadas dos matrices complejas \n",
    "$ m1 = \\begin{bmatrix} 1 + i & 2 - i \\\\ 3 + 2i & 4 \\end{bmatrix} $\n",
    "y \n",
    "$ m2 = \\begin{bmatrix} 2 - 3i & 1 \\\\ i & 2 + 2i \\end{bmatrix} $, \n",
    "calcular su suma."
   ]
  },
  {
   "cell_type": "code",
   "execution_count": 24,
   "metadata": {},
   "outputs": [
    {
     "name": "stdout",
     "output_type": "stream",
     "text": [
      "[[3.-2.j 3.-1.j]\n",
      " [3.+3.j 6.+2.j]]\n"
     ]
    }
   ],
   "source": [
    "m1 = [[1 + 1j, 2 - 1j],\n",
    "    [3 + 2j, 4]]\n",
    "\n",
    "m2 = [[2 - 3j, 1],\n",
    "    [0 + 1j, 2 + 2j]]\n",
    "\n",
    "def sumaMatrices(matr1, matr2):\n",
    "    matr1 = np.array(matr1)\n",
    "    matr2 = np.array(matr2)\n",
    "    suma = matr1 + matr2\n",
    "    return suma\n",
    "print(sumaMatrices(m1,m2))"
   ]
  },
  {
   "cell_type": "markdown",
   "metadata": {},
   "source": [
    "### Ejercicio 8: Negación de una matriz compleja\n",
    "Encontrar la negación de la matriz compleja \n",
    "$ m = \\begin{bmatrix} 2 + i & 3 \\\\ 1 - i & 2 + 2i \\end{bmatrix} $."
   ]
  },
  {
   "cell_type": "code",
   "execution_count": 29,
   "metadata": {},
   "outputs": [
    {
     "name": "stdout",
     "output_type": "stream",
     "text": [
      "[[-2.-1.j -3.-0.j]\n",
      " [-1.+1.j -2.-2.j]]\n"
     ]
    }
   ],
   "source": [
    "m = np.array([[2 + 1j, 3],\n",
    "              [1 - 1j, 2 + 2j]])\n",
    "\n",
    "def negacion(ma):\n",
    "    negMa = -ma\n",
    "    return negMa\n",
    "\n",
    "print(negacion(m))"
   ]
  },
  {
   "cell_type": "markdown",
   "metadata": {},
   "source": [
    "### Ejercicio 9: Multiplicacion de una matriz compleja por un escalar\n",
    "Multiplicar la matriz compleja \n",
    "$ m = \\begin{bmatrix} 1 - i & 2 \\\\ 3 + i & 4 - 2i \\end{bmatrix} $ \n",
    "por el escalar complejo $$ 2 + 3i $$."
   ]
  },
  {
   "cell_type": "code",
   "execution_count": 30,
   "metadata": {},
   "outputs": [
    {
     "name": "stdout",
     "output_type": "stream",
     "text": [
      "[[ 5. +1.j  4. +6.j]\n",
      " [ 3.+11.j 14. +8.j]]\n"
     ]
    }
   ],
   "source": [
    "def scPorMatrizComplx(sc, matr):\n",
    "    result = matr * sc \n",
    "    return result\n",
    "\n",
    "sc = 2 + 3j\n",
    "matr = np.array([[1 - 1j, 2], \n",
    "                 [3 + 1j, 4 - 2j]])\n",
    "\n",
    "print(scPorMatrizComplx(sc, matr))"
   ]
  },
  {
   "cell_type": "markdown",
   "metadata": {},
   "source": [
    "### Ejercicio 10: Conjugado de una matriz compleja\n",
    "Computar la conjugada de la matriz compleja \n",
    "$ m = \\begin{bmatrix} 1 + i & 2 \\\\ 3 - i & 4 + 2i \\end{bmatrix} $."
   ]
  },
  {
   "cell_type": "code",
   "execution_count": 31,
   "metadata": {},
   "outputs": [
    {
     "name": "stdout",
     "output_type": "stream",
     "text": [
      "[[1.-1.j 2.-0.j]\n",
      " [3.+1.j 4.-2.j]]\n"
     ]
    }
   ],
   "source": [
    "def conjugMatr(m):\n",
    "    conjugM = np.conjugate(m)\n",
    "    return conjugM \n",
    "\n",
    "m = np.array([[1 + 1j, 2],\n",
    "              [3 - 1j, 4 + 2j]])\n",
    "\n",
    "print(conjugMatr(m))"
   ]
  },
  {
   "cell_type": "markdown",
   "metadata": {},
   "source": [
    "### Ejercicio 11: Transpuesta de matriz compuesta\n",
    "Encontrar la transpuesta de la matriz compleja \n",
    "$ m = \\begin{bmatrix} 1 - i & 2 + 2i \\\\ 3 & 4 - i \\end{bmatrix} $."
   ]
  },
  {
   "cell_type": "code",
   "execution_count": 32,
   "metadata": {},
   "outputs": [
    {
     "name": "stdout",
     "output_type": "stream",
     "text": [
      "[[1.-1.j 3.+0.j]\n",
      " [2.+2.j 4.-1.j]]\n"
     ]
    }
   ],
   "source": [
    "def transpMatr(m):\n",
    "    transpM = m.T\n",
    "    return transpM \n",
    "\n",
    "m = np.array([[1 - 1j, 2 + 2j], [3, 4 - 1j]])\n",
    "\n",
    "print(transpMatr(m))"
   ]
  },
  {
   "cell_type": "markdown",
   "metadata": {},
   "source": [
    "### Ejercicio 12: Adjunta (conjugada transpuesta) de matriz compleja\n",
    "Calcular la adjunta (o conjugada transpuesta) de la matriz compleja \n",
    "$ m = \\begin{bmatrix} 1 + 2i & 3 - i \\\\ 4 & 5 + i \\end{bmatrix} $."
   ]
  },
  {
   "cell_type": "code",
   "execution_count": 33,
   "metadata": {},
   "outputs": [
    {
     "name": "stdout",
     "output_type": "stream",
     "text": [
      "[[1.-2.j 4.-0.j]\n",
      " [3.+1.j 5.-1.j]]\n"
     ]
    }
   ],
   "source": [
    "def adjMatr(m):\n",
    "    conjugMt = conjugMatr(m)\n",
    "    adjuntaMt = transpMatr(conjugMt)\n",
    "    return adjuntaMt \n",
    "\n",
    "m = np.array([[1 + 2j, 3 - 1j],\n",
    "              [4, 5 + 1j]])\n",
    "\n",
    "print(adjMatr(m)) "
   ]
  },
  {
   "cell_type": "markdown",
   "metadata": {},
   "source": [
    "### Ejercicio 13: Chequear las dimensiones de la Matriz\n",
    "Determinar las dimensiones de la matriz compleja \n",
    "$ m = \\begin{bmatrix} 1 - i & 2 \\\\ 3 + 2i & 4 - i \\end{bmatrix} $."
   ]
  },
  {
   "cell_type": "code",
   "execution_count": 35,
   "metadata": {},
   "outputs": [
    {
     "name": "stdout",
     "output_type": "stream",
     "text": [
      "(2, 2)\n"
     ]
    }
   ],
   "source": [
    "def numDimMatr(m):\n",
    "    return m.shape\n",
    "\n",
    "m = np.array([[1 - 1j, 2],\n",
    "      [3 + 2j, 4 - 1j]])\n",
    "\n",
    "print(numDimMatr(m))\n"
   ]
  },
  {
   "cell_type": "markdown",
   "metadata": {},
   "source": [
    "### Ejercicio 14: Multiplicar una Matriz cuadrada compleja por un vector columna complejo\n",
    "Multiplicar la matriz cuadrada compleja \n",
    "$ m = \\begin{bmatrix} 1 + i & 2 - i \\\\ 3 & 4 + i \\end{bmatrix} $ \n",
    "por el vector columna complejo \n",
    "$ v = \\begin{bmatrix} 2 - i \\\\ 1 + 3i \\end{bmatrix} $."
   ]
  },
  {
   "cell_type": "code",
   "execution_count": 37,
   "metadata": {},
   "outputs": [
    {
     "name": "stdout",
     "output_type": "stream",
     "text": [
      "[[8. +6.j]\n",
      " [7.+10.j]]\n"
     ]
    }
   ],
   "source": [
    "def matrPorVector(m, v):\n",
    "    resultado = np.dot(m, v)\n",
    "    return resultado \n",
    "\n",
    "m = np.array([[1 + 1j, 2 - 1j],\n",
    "              [3, 4 + 1j]])\n",
    "\n",
    "v = np.array([[2 - 1j],\n",
    "              [1 + 3j]])\n",
    "\n",
    "print(matrPorVector(m, v))"
   ]
  }
 ],
 "metadata": {
  "kernelspec": {
   "display_name": "Python 3",
   "language": "python",
   "name": "python3"
  },
  "language_info": {
   "codemirror_mode": {
    "name": "ipython",
    "version": 3
   },
   "file_extension": ".py",
   "mimetype": "text/x-python",
   "name": "python",
   "nbconvert_exporter": "python",
   "pygments_lexer": "ipython3",
   "version": "3.11.1"
  }
 },
 "nbformat": 4,
 "nbformat_minor": 2
}
