{
 "cells": [
  {
   "cell_type": "markdown",
   "metadata": {},
   "source": [
    "## Daniel Felipe Ruiz Bermúdez taller semana 2\n"
   ]
  },
  {
   "cell_type": "markdown",
   "metadata": {},
   "source": [
    "#### Segundo taller ComplexIntro\n"
   ]
  },
  {
   "cell_type": "markdown",
   "metadata": {},
   "source": [
    "## Ejercicio 1: Operaciones básicas de números complejos\n",
    "1. Manualmente calcular y luego verificar usando Python el resultado de `(3 + 4j) + (1 - 2j)`, `(5 + 6j) * (7 - 8j)`, and `(2 - 3j) / (1 + 4j)`.\n",
    "2. Encontrar el conjugado y modulo de `(3 - 4j)`."
   ]
  },
  {
   "cell_type": "code",
   "execution_count": 1,
   "metadata": {},
   "outputs": [
    {
     "name": "stdout",
     "output_type": "stream",
     "text": [
      "Addition: (4+2j)\n",
      "Multiplication: (83+2j)\n",
      "Division: (-0.5882352941176471-0.6470588235294118j)\n"
     ]
    }
   ],
   "source": [
    "z1 = complex(3, 4)  \n",
    "z2 = complex(1, -2)\n",
    "z3 = complex(5, 6)\n",
    "z4 = complex(7, -8)\n",
    "z5 = complex(2, -3)\n",
    "z6 = complex(1, 4)\n",
    "\n",
    "# Basic operations\n",
    "print(\"Addition:\", z1 + z2)\n",
    "print(\"Multiplication:\", z3 * z4)\n",
    "print(\"Division:\", z5 / z6)"
   ]
  }
 ],
 "metadata": {
  "kernelspec": {
   "display_name": ".venv",
   "language": "python",
   "name": "python3"
  },
  "language_info": {
   "codemirror_mode": {
    "name": "ipython",
    "version": 3
   },
   "file_extension": ".py",
   "mimetype": "text/x-python",
   "name": "python",
   "nbconvert_exporter": "python",
   "pygments_lexer": "ipython3",
   "version": "3.11.1"
  }
 },
 "nbformat": 4,
 "nbformat_minor": 2
}
